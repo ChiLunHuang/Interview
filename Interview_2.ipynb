{
 "cells": [
  {
   "cell_type": "code",
   "execution_count": 2,
   "metadata": {
    "collapsed": false
   },
   "outputs": [
    {
     "name": "stdout",
     "output_type": "stream",
     "text": [
      "Please enter your url: https://zh.wikipedia.org/wiki/%E5%8F%B0%E7%81%A3%E7%A9%8D%E9%AB%94%E9%9B%BB%E8%B7%AF%E8%A3%BD%E9%80%A0%E5%85%AC%E5%8F%B8\n",
      "[('張忠謀', 9), ('蔡力行', 6), ('劉德音', 3), ('魏哲家', 3), ('陳家湘', 2), ('施振榮', 1), ('湯馬斯', 1), ('陳國慈', 1), ('曾繁城', 1), ('延吉布斯', 1), ('趙應誠', 1), ('鄒至莊', 1)]\n"
     ]
    }
   ],
   "source": [
    "#################################################\n",
    "# Interview_2.py\n",
    "#題目:給定wiki頁面，找出頁面中所有的人名以及出現頻率\n",
    "#\n",
    "# 2016 Chi-Lun Huang\n",
    "#################################################\n",
    "\n",
    "\n",
    "import requests\n",
    "from bs4  import BeautifulSoup as bs\n",
    "import jieba\n",
    "import jieba.posseg as pseg\n",
    "from operator import itemgetter #sort\n",
    "\n",
    "# To get web content\n",
    "res = requests.get(str(input(\"Please enter your url: \")))\n",
    "soup = bs(res.text.encode('utf8'),'html.parser')\n",
    "#initialize\n",
    "jieba.initialize()\n",
    "# Add traditional chinese dictionary in jieba\n",
    "#jieba.set_dictionary('dict.txt.big.txt')\n",
    "# Add dictionary some words to recognize some words which recognize error in jieba\n",
    "jieba.load_userdict(\"userdict.txt\")\n",
    "\n",
    "global dic\n",
    "dic = {}\n",
    "  \n",
    "# function for jieba process\n",
    "def jiebaProcess(words) :\n",
    "    for i in range(0,len(words)): \n",
    "            seg = words[i].text\n",
    "            if len(seg) > 0 :\n",
    "                #print(seg) #Original file \n",
    "                seg_paragraph = seg.split('。')\n",
    "                # read seg_paragraph\n",
    "                for j in range(0,len(seg_paragraph)) :\n",
    "                    #print(seg_paragraph[j]) # Original seg_paragraph\n",
    "\n",
    "                    if len(seg_paragraph[j]) > 0 :\n",
    "                        # Use jiebia to get POS \n",
    "                        segmented_result = pseg.cut(str(seg_paragraph[j]))\n",
    "                        for pos in segmented_result:\n",
    "                            #print (pos.word, pos.flag)\n",
    "                            # Add result into dic        \n",
    "                            if pos.word not in dic and pos.flag =='nr' and len(pos.word)>1:\n",
    "                                dic[pos.word] = 1\n",
    "                                #print (pos.word, pos.flag) # Result\n",
    "                                    \n",
    "                            elif pos.word in dic and pos.flag =='nr'and len(pos.word)>1:\n",
    "                                dic[pos.word] += 1\n",
    "\n",
    "                                                                                                \n",
    "# Basic information\n",
    "for infobox in soup.select('.infobox'):\n",
    "    td = infobox.select('td')\n",
    "    jiebaProcess(td)\n",
    "       \n",
    "\n",
    "# Article   \n",
    "for div in soup.select(\".mw-content-ltr\"):\n",
    "    p = div.select('p')\n",
    "    jiebaProcess(p)\n",
    "    \n",
    "# Refrerence\n",
    "for div in soup.select(\".references\"):\n",
    "    referenceText = div.select(\".reference-text\")\n",
    "    jiebaProcess(referenceText)   \n",
    "\n",
    "# wikitable\n",
    "for div in soup.select(\".wikitable\"):\n",
    "    tableText = div.select(\"td\")\n",
    "    jiebaProcess(tableText)    \n",
    "\n",
    "#Result\n",
    "swd = sorted(dic.items(), key=itemgetter(1), reverse=True)\n",
    "print (swd)\n",
    "\n",
    "#D:\\Anaconda3\\Lib\\site-packages\\jieba\n"
   ]
  },
  {
   "cell_type": "code",
   "execution_count": null,
   "metadata": {
    "collapsed": true
   },
   "outputs": [],
   "source": []
  }
 ],
 "metadata": {
  "kernelspec": {
   "display_name": "Python 3",
   "language": "python",
   "name": "python3"
  },
  "language_info": {
   "codemirror_mode": {
    "name": "ipython",
    "version": 3
   },
   "file_extension": ".py",
   "mimetype": "text/x-python",
   "name": "python",
   "nbconvert_exporter": "python",
   "pygments_lexer": "ipython3",
   "version": "3.5.1"
  }
 },
 "nbformat": 4,
 "nbformat_minor": 0
}
